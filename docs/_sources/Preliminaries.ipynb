{
 "cells": [
  {
   "cell_type": "markdown",
   "id": "3899fe3c",
   "metadata": {
    "tags": []
   },
   "source": [
    "# Preliminaries"
   ]
  },
  {
   "cell_type": "markdown",
   "id": "6235c125",
   "metadata": {},
   "source": [
    "```{tip}\n",
    "The preliminaries section can be used to explain the notations and background information needed to understand the main results. Readers already have the relevant background may also jump directly to the main results.\n",
    "```"
   ]
  },
  {
   "cell_type": "markdown",
   "id": "74714b71",
   "metadata": {},
   "source": [
    "**Where is the book published?**"
   ]
  },
  {
   "cell_type": "markdown",
   "id": "ad4263a0",
   "metadata": {},
   "source": [
    "The book is published by [GitLab pages](https://docs.gitlab.com/ee/user/project/pages/) at  \n",
    "> <https://ccha23.gitlab1.pages.cs.cityu.edu.hk/cs5483jupyter>"
   ]
  },
  {
   "cell_type": "markdown",
   "id": "13a4036f",
   "metadata": {},
   "source": [
    "The code is available at the repository  \n",
    "> <https://gitlab1.cs.cityu.edu.hk/ccha23/cs5483jupyter.git>  \n",
    "\n",
    "The book is compiled from the jupyter notebooks under the folder [`docs`](https://gitlab1.cs.cityu.edu.hk/ccha23/cs5483jupyter/-/tree/main/docs)."
   ]
  },
  {
   "cell_type": "markdown",
   "id": "ebf13da8",
   "metadata": {},
   "source": [
    "```{seealso}\n",
    "The jupyter notebooks are paired with MyST markdown files for better version control.  See [jupytext](https://github.com/mwouts/jupytext) for details.\n",
    "```"
   ]
  },
  {
   "cell_type": "markdown",
   "id": "23a58069",
   "metadata": {},
   "source": [
    "**How to obtain and run the notebooks easily?**"
   ]
  },
  {
   "cell_type": "markdown",
   "id": "b7a4d199",
   "metadata": {},
   "source": [
    "The simplest way is launch to the course JupyterHub server. You can click on the launch badge  \n",
    "> [![CS5483](badge.dio.svg)](https://cs5483.cs.cityu.edu.hk/hub/user-redirect/git-pull?repo=https://gitlab1.cs.cityu.edu.hk/ccha23/cs5483jupyter&urlpath=lab/tree/cs5483jupyter/docs/Abstract.ipynb&branch=main)\n",
    "\n",
    "To launch a specific notebook page, click on the top of the notebook page:  \n",
    "> <i class=\"fas fa-rocket\"></i> > JupyterHub"
   ]
  },
  {
   "cell_type": "markdown",
   "id": "674da0d1",
   "metadata": {},
   "source": [
    "```{caution}\n",
    "For the first time you launch the notebooks, there should not be any existing folder `~/cs5483jupyter`, or the repository cannot be pulled to that location.\n",
    "```"
   ]
  },
  {
   "cell_type": "markdown",
   "id": "010bda6c",
   "metadata": {},
   "source": [
    "For others with no access to the jupyterhub server, the notebooks can be opened to the Binder service:  \n",
    "> [![Binder](https://mybinder.org/badge_logo.svg)](https://mybinder.org/v2/git/https%3A%2F%2Fgitlab1.cs.cityu.edu.hk%2Fccha23%2Fcs5483jupyter/main?urlpath=git-pull?repo%3Dhttps%3A%2F%2Fgitlab1.cs.cityu.edu.hk%2Fccha23%2Fcs5483jupyter%26branch%3Dmain%26urlpath%3Dlab%2Ftree%2Fcs5483jupyter%2Fdocs%2FAbstract.ipynb)\n",
    "\n",
    "Specific notebook page can also be opened with the top bar:\n",
    "> <i class=\"fas fa-rocket\"></i> > Binder"
   ]
  },
  {
   "cell_type": "markdown",
   "id": "c99ba62f",
   "metadata": {},
   "source": [
    "It may take a while to load especially after the repository is updated because Binder needs to build an image of the repository before running it."
   ]
  },
  {
   "cell_type": "markdown",
   "id": "9c03e39c",
   "metadata": {},
   "source": [
    "```{caution}\n",
    "The storage on Binder is temporary and so, to save your changes to a notebook, you should download the notebook. The server has limited computing power, and is culled after a certain period of idle time.\n",
    "```"
   ]
  },
  {
   "cell_type": "markdown",
   "id": "fe5bc403",
   "metadata": {},
   "source": [
    "**How to run the notebooks locally with more control on the resources?**"
   ]
  },
  {
   "cell_type": "markdown",
   "id": "e85c72c2",
   "metadata": {},
   "source": [
    "The notebooks can also run locally (or anywhere) in a docker container:\n",
    "\n",
    "1. Install [docker](https://docs.docker.com/get-started/#download-and-install-docker) and run it with your [configuration](https://docs.docker.com/config/daemon/).\n",
    "2. Install [Visual Studio Code (VSCode)](https://code.visualstudio.com/) and the extension [Remote - Containers](https://marketplace.visualstudio.com/items?itemName=ms-vscode-remote.remote-containers).\n",
    "3. Run VSCode and click on the top bar `View > Command Palette`.\n",
    "4. Enter `Remote-Containers: Clone Repository in Container Volume...`\n",
    "5. Enter the repository url: `https://gitlab1.cs.cityu.edu.hk/ccha23/cs5483jupyter.git`"
   ]
  },
  {
   "cell_type": "markdown",
   "id": "d6533866",
   "metadata": {},
   "source": [
    "Your web browser should open in a moment with a Jupyter server running at <http://localhost:8888>, where you can interact with the notebooks saved to a container volume. For the first time, it may take a while to load as docker needs to pull a docker image to run."
   ]
  },
  {
   "cell_type": "markdown",
   "id": "d58ae736",
   "metadata": {},
   "source": [
    "```{caution}\n",
    "Ensure port 8888 is free for use by the jupyter server.\n",
    "```"
   ]
  },
  {
   "cell_type": "markdown",
   "id": "90406f35",
   "metadata": {},
   "source": [
    "```{tip}\n",
    "In case of error, you may rebuild the container with `View > Command Palette > Remote-Containers: Rebuild Container`.\n",
    "```"
   ]
  }
 ],
 "metadata": {
  "jupytext": {
   "formats": "ipynb,md:myst",
   "text_representation": {
    "extension": ".md",
    "format_name": "myst",
    "format_version": 0.13,
    "jupytext_version": "1.11.5"
   }
  },
  "kernelspec": {
   "display_name": "Python 3 (ipykernel)",
   "language": "python",
   "name": "python3"
  },
  "language_info": {
   "codemirror_mode": {
    "name": "ipython",
    "version": 3
   },
   "file_extension": ".py",
   "mimetype": "text/x-python",
   "name": "python",
   "nbconvert_exporter": "python",
   "pygments_lexer": "ipython3",
   "version": "3.9.10"
  },
  "source_map": [
   15,
   19,
   25,
   29,
   34,
   41,
   47,
   51,
   59,
   65,
   73,
   77,
   83,
   87,
   97,
   101,
   107
  ]
 },
 "nbformat": 4,
 "nbformat_minor": 5
}