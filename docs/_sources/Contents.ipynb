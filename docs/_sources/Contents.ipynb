{
 "cells": [
  {
   "cell_type": "markdown",
   "id": "6d80c51c",
   "metadata": {
    "tags": []
   },
   "source": [
    "# Modifying Contents"
   ]
  },
  {
   "cell_type": "markdown",
   "id": "eb02aee3",
   "metadata": {},
   "source": [
    "```{tip}\n",
    "JupyterBook uses the MyST syntax which is nicely summarized by [this cheat sheet](https://jupyterbook.org/reference/cheatsheet.html).\n",
    "```"
   ]
  },
  {
   "cell_type": "code",
   "execution_count": 1,
   "id": "71c7fe82",
   "metadata": {
    "tags": [
     "remove-cell"
    ]
   },
   "outputs": [],
   "source": [
    "from IPython.display import Code"
   ]
  },
  {
   "cell_type": "markdown",
   "id": "c675f61b",
   "metadata": {},
   "source": [
    "In the Jupyter interface, open the terminal (`File > New > Terminal`) and run  \n",
    "```bash\n",
    "./build.sh\n",
    "```\n",
    "under the repository root. Answer `y` or simply press enter when prompted."
   ]
  },
  {
   "cell_type": "markdown",
   "id": "9cb10408",
   "metadata": {},
   "source": [
    "To preview the book website,\n",
    "- start the http server (`File > New Launcher > www`) and \n",
    "- navigate to `www/cs5483jupyter`."
   ]
  },
  {
   "cell_type": "markdown",
   "id": "a77e18de",
   "metadata": {},
   "source": [
    "```{tip}\n",
    "After rebuilding the book, you can refresh an existing preview page to update its content.\n",
    "```"
   ]
  },
  {
   "cell_type": "markdown",
   "id": "063003c1",
   "metadata": {},
   "source": [
    "## Citations"
   ]
  },
  {
   "cell_type": "markdown",
   "id": "d47fdc37",
   "metadata": {},
   "source": [
    "To cite some references such as the main textbooks {cite}`Han11, Witten11`, write\n",
    "```markdown\n",
    "  {cite}`Han11, Witten11`\n",
    "```\n",
    "and add the details of the references to the BibTeX file `ref.bib`:"
   ]
  },
  {
   "cell_type": "code",
   "execution_count": 2,
   "id": "fe4ac041",
   "metadata": {
    "tags": [
     "remove-input"
    ]
   },
   "outputs": [
    {
     "data": {
      "text/html": [
       "<style>pre { line-height: 125%; }\n",
       "td.linenos .normal { color: inherit; background-color: transparent; padding-left: 5px; padding-right: 5px; }\n",
       "span.linenos { color: inherit; background-color: transparent; padding-left: 5px; padding-right: 5px; }\n",
       "td.linenos .special { color: #000000; background-color: #ffffc0; padding-left: 5px; padding-right: 5px; }\n",
       "span.linenos.special { color: #000000; background-color: #ffffc0; padding-left: 5px; padding-right: 5px; }\n",
       ".output_html .hll { background-color: #ffffcc }\n",
       ".output_html { background: #f8f8f8; }\n",
       ".output_html .c { color: #3D7B7B; font-style: italic } /* Comment */\n",
       ".output_html .err { border: 1px solid #FF0000 } /* Error */\n",
       ".output_html .k { color: #008000; font-weight: bold } /* Keyword */\n",
       ".output_html .o { color: #666666 } /* Operator */\n",
       ".output_html .ch { color: #3D7B7B; font-style: italic } /* Comment.Hashbang */\n",
       ".output_html .cm { color: #3D7B7B; font-style: italic } /* Comment.Multiline */\n",
       ".output_html .cp { color: #9C6500 } /* Comment.Preproc */\n",
       ".output_html .cpf { color: #3D7B7B; font-style: italic } /* Comment.PreprocFile */\n",
       ".output_html .c1 { color: #3D7B7B; font-style: italic } /* Comment.Single */\n",
       ".output_html .cs { color: #3D7B7B; font-style: italic } /* Comment.Special */\n",
       ".output_html .gd { color: #A00000 } /* Generic.Deleted */\n",
       ".output_html .ge { font-style: italic } /* Generic.Emph */\n",
       ".output_html .gr { color: #E40000 } /* Generic.Error */\n",
       ".output_html .gh { color: #000080; font-weight: bold } /* Generic.Heading */\n",
       ".output_html .gi { color: #008400 } /* Generic.Inserted */\n",
       ".output_html .go { color: #717171 } /* Generic.Output */\n",
       ".output_html .gp { color: #000080; font-weight: bold } /* Generic.Prompt */\n",
       ".output_html .gs { font-weight: bold } /* Generic.Strong */\n",
       ".output_html .gu { color: #800080; font-weight: bold } /* Generic.Subheading */\n",
       ".output_html .gt { color: #0044DD } /* Generic.Traceback */\n",
       ".output_html .kc { color: #008000; font-weight: bold } /* Keyword.Constant */\n",
       ".output_html .kd { color: #008000; font-weight: bold } /* Keyword.Declaration */\n",
       ".output_html .kn { color: #008000; font-weight: bold } /* Keyword.Namespace */\n",
       ".output_html .kp { color: #008000 } /* Keyword.Pseudo */\n",
       ".output_html .kr { color: #008000; font-weight: bold } /* Keyword.Reserved */\n",
       ".output_html .kt { color: #B00040 } /* Keyword.Type */\n",
       ".output_html .m { color: #666666 } /* Literal.Number */\n",
       ".output_html .s { color: #BA2121 } /* Literal.String */\n",
       ".output_html .na { color: #687822 } /* Name.Attribute */\n",
       ".output_html .nb { color: #008000 } /* Name.Builtin */\n",
       ".output_html .nc { color: #0000FF; font-weight: bold } /* Name.Class */\n",
       ".output_html .no { color: #880000 } /* Name.Constant */\n",
       ".output_html .nd { color: #AA22FF } /* Name.Decorator */\n",
       ".output_html .ni { color: #717171; font-weight: bold } /* Name.Entity */\n",
       ".output_html .ne { color: #CB3F38; font-weight: bold } /* Name.Exception */\n",
       ".output_html .nf { color: #0000FF } /* Name.Function */\n",
       ".output_html .nl { color: #767600 } /* Name.Label */\n",
       ".output_html .nn { color: #0000FF; font-weight: bold } /* Name.Namespace */\n",
       ".output_html .nt { color: #008000; font-weight: bold } /* Name.Tag */\n",
       ".output_html .nv { color: #19177C } /* Name.Variable */\n",
       ".output_html .ow { color: #AA22FF; font-weight: bold } /* Operator.Word */\n",
       ".output_html .w { color: #bbbbbb } /* Text.Whitespace */\n",
       ".output_html .mb { color: #666666 } /* Literal.Number.Bin */\n",
       ".output_html .mf { color: #666666 } /* Literal.Number.Float */\n",
       ".output_html .mh { color: #666666 } /* Literal.Number.Hex */\n",
       ".output_html .mi { color: #666666 } /* Literal.Number.Integer */\n",
       ".output_html .mo { color: #666666 } /* Literal.Number.Oct */\n",
       ".output_html .sa { color: #BA2121 } /* Literal.String.Affix */\n",
       ".output_html .sb { color: #BA2121 } /* Literal.String.Backtick */\n",
       ".output_html .sc { color: #BA2121 } /* Literal.String.Char */\n",
       ".output_html .dl { color: #BA2121 } /* Literal.String.Delimiter */\n",
       ".output_html .sd { color: #BA2121; font-style: italic } /* Literal.String.Doc */\n",
       ".output_html .s2 { color: #BA2121 } /* Literal.String.Double */\n",
       ".output_html .se { color: #AA5D1F; font-weight: bold } /* Literal.String.Escape */\n",
       ".output_html .sh { color: #BA2121 } /* Literal.String.Heredoc */\n",
       ".output_html .si { color: #A45A77; font-weight: bold } /* Literal.String.Interpol */\n",
       ".output_html .sx { color: #008000 } /* Literal.String.Other */\n",
       ".output_html .sr { color: #A45A77 } /* Literal.String.Regex */\n",
       ".output_html .s1 { color: #BA2121 } /* Literal.String.Single */\n",
       ".output_html .ss { color: #19177C } /* Literal.String.Symbol */\n",
       ".output_html .bp { color: #008000 } /* Name.Builtin.Pseudo */\n",
       ".output_html .fm { color: #0000FF } /* Name.Function.Magic */\n",
       ".output_html .vc { color: #19177C } /* Name.Variable.Class */\n",
       ".output_html .vg { color: #19177C } /* Name.Variable.Global */\n",
       ".output_html .vi { color: #19177C } /* Name.Variable.Instance */\n",
       ".output_html .vm { color: #19177C } /* Name.Variable.Magic */\n",
       ".output_html .il { color: #666666 } /* Literal.Number.Integer.Long */</style><div class=\"highlight\"><pre><span></span><span class=\"nc\">@book</span><span class=\"p\">{</span><span class=\"nl\">Han11</span><span class=\"p\">,</span><span class=\"w\"></span>\n",
       "<span class=\"w\">    </span><span class=\"na\">editor</span><span class=\"w\"> </span><span class=\"p\">=</span><span class=\"w\"> </span><span class=\"s\">{Jiawei Han and Micheline Kamber and Jian Pei}</span><span class=\"p\">,</span><span class=\"w\"></span>\n",
       "<span class=\"w\">    </span><span class=\"na\">title</span><span class=\"w\"> </span><span class=\"p\">=</span><span class=\"w\"> </span><span class=\"s\">{Data Mining: Concepts and Techniques Third Edition}</span><span class=\"p\">,</span><span class=\"w\"></span>\n",
       "<span class=\"w\">    </span><span class=\"na\">publisher</span><span class=\"w\"> </span><span class=\"p\">=</span><span class=\"w\"> </span><span class=\"s\">{Morgan Kaufmann}</span><span class=\"p\">,</span><span class=\"w\"></span>\n",
       "<span class=\"w\">    </span><span class=\"na\">edition</span><span class=\"w\"> </span><span class=\"p\">=</span><span class=\"w\"> </span><span class=\"m\">3</span><span class=\"p\">,</span><span class=\"w\"></span>\n",
       "<span class=\"w\">    </span><span class=\"na\">address</span><span class=\"w\"> </span><span class=\"p\">=</span><span class=\"w\"> </span><span class=\"s\">{Boston}</span><span class=\"p\">,</span><span class=\"w\"></span>\n",
       "<span class=\"w\">    </span><span class=\"na\">year</span><span class=\"w\"> </span><span class=\"p\">=</span><span class=\"w\"> </span><span class=\"s\">{2011}</span><span class=\"p\">,</span><span class=\"w\"></span>\n",
       "<span class=\"w\">    </span><span class=\"na\">series</span><span class=\"w\"> </span><span class=\"p\">=</span><span class=\"w\"> </span><span class=\"s\">{The Morgan Kaufmann Series in Data Management Systems}</span><span class=\"p\">,</span><span class=\"w\"></span>\n",
       "<span class=\"w\">    </span><span class=\"na\">isbn</span><span class=\"w\"> </span><span class=\"p\">=</span><span class=\"w\"> </span><span class=\"s\">{978-0-12-381479-1}</span><span class=\"p\">,</span><span class=\"w\"></span>\n",
       "<span class=\"w\">    </span><span class=\"na\">doi</span><span class=\"w\"> </span><span class=\"p\">=</span><span class=\"w\"> </span><span class=\"s\">{https://doi.org/10.1016/B978-0-12-381479-1.00021-6}</span><span class=\"w\"></span>\n",
       "<span class=\"p\">}</span><span class=\"w\"></span>\n",
       "\n",
       "<span class=\"nc\">@book</span><span class=\"p\">{</span><span class=\"nl\">Witten11</span><span class=\"p\">,</span><span class=\"w\"></span>\n",
       "<span class=\"w\">    </span><span class=\"na\">address</span><span class=\"w\"> </span><span class=\"p\">=</span><span class=\"w\"> </span><span class=\"s\">{Amsterdam}</span><span class=\"p\">,</span><span class=\"w\"></span>\n",
       "<span class=\"w\">    </span><span class=\"na\">author</span><span class=\"w\"> </span><span class=\"p\">=</span><span class=\"w\"> </span><span class=\"s\">{Witten, Ian H. and Frank, Eibe and Hall, Mark A.}</span><span class=\"p\">,</span><span class=\"w\"></span>\n",
       "<span class=\"w\">    </span><span class=\"na\">edition</span><span class=\"w\"> </span><span class=\"p\">=</span><span class=\"w\"> </span><span class=\"m\">3</span><span class=\"p\">,</span><span class=\"w\"></span>\n",
       "<span class=\"w\">    </span><span class=\"na\">isbn</span><span class=\"w\"> </span><span class=\"p\">=</span><span class=\"w\"> </span><span class=\"s\">{978-0-12-374856-0}</span><span class=\"p\">,</span><span class=\"w\"></span>\n",
       "<span class=\"w\">    </span><span class=\"na\">keywords</span><span class=\"w\"> </span><span class=\"p\">=</span><span class=\"w\"> </span><span class=\"s\">{book datamining learning machine pattern recognition}</span><span class=\"p\">,</span><span class=\"w\"></span>\n",
       "<span class=\"w\">    </span><span class=\"na\">publisher</span><span class=\"w\"> </span><span class=\"p\">=</span><span class=\"w\"> </span><span class=\"s\">{Morgan Kaufmann}</span><span class=\"p\">,</span><span class=\"w\"></span>\n",
       "<span class=\"w\">    </span><span class=\"na\">series</span><span class=\"w\"> </span><span class=\"p\">=</span><span class=\"w\"> </span><span class=\"s\">{Morgan Kaufmann Series in Data Management Systems}</span><span class=\"p\">,</span><span class=\"w\"></span>\n",
       "<span class=\"w\">    </span><span class=\"na\">title</span><span class=\"w\"> </span><span class=\"p\">=</span><span class=\"w\"> </span><span class=\"s\">{Data Mining: Practical Machine Learning Tools and Techniques}</span><span class=\"p\">,</span><span class=\"w\"></span>\n",
       "<span class=\"w\">    </span><span class=\"na\">doi</span><span class=\"w\"> </span><span class=\"p\">=</span><span class=\"w\"> </span><span class=\"s\">{https://doi.org/10.1016/C2009-0-19715-5}</span><span class=\"p\">,</span><span class=\"w\"></span>\n",
       "<span class=\"w\">    </span><span class=\"na\">year</span><span class=\"w\"> </span><span class=\"p\">=</span><span class=\"w\"> </span><span class=\"m\">2011</span><span class=\"w\"></span>\n",
       "<span class=\"p\">}</span><span class=\"w\"></span>\n",
       "</pre></div>\n"
      ],
      "text/latex": [
       "\\begin{Verbatim}[commandchars=\\\\\\{\\}]\n",
       "\\PY{n+nc}{@book}\\PY{p}{\\PYZob{}}\\PY{n+nl}{Han11}\\PY{p}{,}\n",
       "\\PY{+w}{    }\\PY{n+na}{editor}\\PY{+w}{ }\\PY{p}{=}\\PY{+w}{ }\\PY{l+s}{\\PYZob{}}\\PY{l+s}{Jiawei Han and Micheline Kamber and Jian Pei}\\PY{l+s}{\\PYZcb{}}\\PY{p}{,}\n",
       "\\PY{+w}{    }\\PY{n+na}{title}\\PY{+w}{ }\\PY{p}{=}\\PY{+w}{ }\\PY{l+s}{\\PYZob{}}\\PY{l+s}{Data Mining: Concepts and Techniques Third Edition}\\PY{l+s}{\\PYZcb{}}\\PY{p}{,}\n",
       "\\PY{+w}{    }\\PY{n+na}{publisher}\\PY{+w}{ }\\PY{p}{=}\\PY{+w}{ }\\PY{l+s}{\\PYZob{}}\\PY{l+s}{Morgan Kaufmann}\\PY{l+s}{\\PYZcb{}}\\PY{p}{,}\n",
       "\\PY{+w}{    }\\PY{n+na}{edition}\\PY{+w}{ }\\PY{p}{=}\\PY{+w}{ }\\PY{l+m}{3}\\PY{p}{,}\n",
       "\\PY{+w}{    }\\PY{n+na}{address}\\PY{+w}{ }\\PY{p}{=}\\PY{+w}{ }\\PY{l+s}{\\PYZob{}}\\PY{l+s}{Boston}\\PY{l+s}{\\PYZcb{}}\\PY{p}{,}\n",
       "\\PY{+w}{    }\\PY{n+na}{year}\\PY{+w}{ }\\PY{p}{=}\\PY{+w}{ }\\PY{l+s}{\\PYZob{}}\\PY{l+s}{2011}\\PY{l+s}{\\PYZcb{}}\\PY{p}{,}\n",
       "\\PY{+w}{    }\\PY{n+na}{series}\\PY{+w}{ }\\PY{p}{=}\\PY{+w}{ }\\PY{l+s}{\\PYZob{}}\\PY{l+s}{The Morgan Kaufmann Series in Data Management Systems}\\PY{l+s}{\\PYZcb{}}\\PY{p}{,}\n",
       "\\PY{+w}{    }\\PY{n+na}{isbn}\\PY{+w}{ }\\PY{p}{=}\\PY{+w}{ }\\PY{l+s}{\\PYZob{}}\\PY{l+s}{978\\PYZhy{}0\\PYZhy{}12\\PYZhy{}381479\\PYZhy{}1}\\PY{l+s}{\\PYZcb{}}\\PY{p}{,}\n",
       "\\PY{+w}{    }\\PY{n+na}{doi}\\PY{+w}{ }\\PY{p}{=}\\PY{+w}{ }\\PY{l+s}{\\PYZob{}}\\PY{l+s}{https://doi.org/10.1016/B978\\PYZhy{}0\\PYZhy{}12\\PYZhy{}381479\\PYZhy{}1.00021\\PYZhy{}6}\\PY{l+s}{\\PYZcb{}}\n",
       "\\PY{p}{\\PYZcb{}}\n",
       "\n",
       "\\PY{n+nc}{@book}\\PY{p}{\\PYZob{}}\\PY{n+nl}{Witten11}\\PY{p}{,}\n",
       "\\PY{+w}{    }\\PY{n+na}{address}\\PY{+w}{ }\\PY{p}{=}\\PY{+w}{ }\\PY{l+s}{\\PYZob{}}\\PY{l+s}{Amsterdam}\\PY{l+s}{\\PYZcb{}}\\PY{p}{,}\n",
       "\\PY{+w}{    }\\PY{n+na}{author}\\PY{+w}{ }\\PY{p}{=}\\PY{+w}{ }\\PY{l+s}{\\PYZob{}}\\PY{l+s}{Witten, Ian H. and Frank, Eibe and Hall, Mark A.}\\PY{l+s}{\\PYZcb{}}\\PY{p}{,}\n",
       "\\PY{+w}{    }\\PY{n+na}{edition}\\PY{+w}{ }\\PY{p}{=}\\PY{+w}{ }\\PY{l+m}{3}\\PY{p}{,}\n",
       "\\PY{+w}{    }\\PY{n+na}{isbn}\\PY{+w}{ }\\PY{p}{=}\\PY{+w}{ }\\PY{l+s}{\\PYZob{}}\\PY{l+s}{978\\PYZhy{}0\\PYZhy{}12\\PYZhy{}374856\\PYZhy{}0}\\PY{l+s}{\\PYZcb{}}\\PY{p}{,}\n",
       "\\PY{+w}{    }\\PY{n+na}{keywords}\\PY{+w}{ }\\PY{p}{=}\\PY{+w}{ }\\PY{l+s}{\\PYZob{}}\\PY{l+s}{book datamining learning machine pattern recognition}\\PY{l+s}{\\PYZcb{}}\\PY{p}{,}\n",
       "\\PY{+w}{    }\\PY{n+na}{publisher}\\PY{+w}{ }\\PY{p}{=}\\PY{+w}{ }\\PY{l+s}{\\PYZob{}}\\PY{l+s}{Morgan Kaufmann}\\PY{l+s}{\\PYZcb{}}\\PY{p}{,}\n",
       "\\PY{+w}{    }\\PY{n+na}{series}\\PY{+w}{ }\\PY{p}{=}\\PY{+w}{ }\\PY{l+s}{\\PYZob{}}\\PY{l+s}{Morgan Kaufmann Series in Data Management Systems}\\PY{l+s}{\\PYZcb{}}\\PY{p}{,}\n",
       "\\PY{+w}{    }\\PY{n+na}{title}\\PY{+w}{ }\\PY{p}{=}\\PY{+w}{ }\\PY{l+s}{\\PYZob{}}\\PY{l+s}{Data Mining: Practical Machine Learning Tools and Techniques}\\PY{l+s}{\\PYZcb{}}\\PY{p}{,}\n",
       "\\PY{+w}{    }\\PY{n+na}{doi}\\PY{+w}{ }\\PY{p}{=}\\PY{+w}{ }\\PY{l+s}{\\PYZob{}}\\PY{l+s}{https://doi.org/10.1016/C2009\\PYZhy{}0\\PYZhy{}19715\\PYZhy{}5}\\PY{l+s}{\\PYZcb{}}\\PY{p}{,}\n",
       "\\PY{+w}{    }\\PY{n+na}{year}\\PY{+w}{ }\\PY{p}{=}\\PY{+w}{ }\\PY{l+m}{2011}\n",
       "\\PY{p}{\\PYZcb{}}\n",
       "\\end{Verbatim}\n"
      ],
      "text/plain": [
       "@book{Han11,\n",
       "    editor = {Jiawei Han and Micheline Kamber and Jian Pei},\n",
       "    title = {Data Mining: Concepts and Techniques Third Edition},\n",
       "    publisher = {Morgan Kaufmann},\n",
       "    edition = 3,\n",
       "    address = {Boston},\n",
       "    year = {2011},\n",
       "    series = {The Morgan Kaufmann Series in Data Management Systems},\n",
       "    isbn = {978-0-12-381479-1},\n",
       "    doi = {https://doi.org/10.1016/B978-0-12-381479-1.00021-6}\n",
       "}\n",
       "\n",
       "@book{Witten11,\n",
       "    address = {Amsterdam},\n",
       "    author = {Witten, Ian H. and Frank, Eibe and Hall, Mark A.},\n",
       "    edition = 3,\n",
       "    isbn = {978-0-12-374856-0},\n",
       "    keywords = {book datamining learning machine pattern recognition},\n",
       "    publisher = {Morgan Kaufmann},\n",
       "    series = {Morgan Kaufmann Series in Data Management Systems},\n",
       "    title = {Data Mining: Practical Machine Learning Tools and Techniques},\n",
       "    doi = {https://doi.org/10.1016/C2009-0-19715-5},\n",
       "    year = 2011\n",
       "}"
      ]
     },
     "execution_count": 2,
     "metadata": {},
     "output_type": "execute_result"
    }
   ],
   "source": [
    "Code('ref.bib')"
   ]
  },
  {
   "cell_type": "markdown",
   "id": "d895d82e",
   "metadata": {},
   "source": [
    "`````{note}\n",
    "\n",
    "For the above to work, the bibliography is added to the [References](References.ipynb) notebook with\n",
    "\n",
    "````markdown\n",
    "```{bibliography}\n",
    "```\n",
    "````\n",
    "\n",
    "`````"
   ]
  },
  {
   "cell_type": "markdown",
   "id": "72803df9",
   "metadata": {},
   "source": [
    "```{seealso}\n",
    "- [JupyterBook docs](https://jupyterbook.org/content/citations.html)\n",
    "- [sphinxcontrib-bibtex docs](https://sphinxcontrib-bibtex.readthedocs.io)\n",
    "```"
   ]
  },
  {
   "cell_type": "markdown",
   "id": "9e38aa16",
   "metadata": {
    "tags": []
   },
   "source": [
    "## Equations"
   ]
  },
  {
   "cell_type": "markdown",
   "id": "b3806ccf",
   "metadata": {},
   "source": [
    "Eqn {eq}`MI` below defines the mutual information\n",
    "\n",
    "$$\n",
    "\\begin{align}\n",
    "I(\\R{X} \\wedge \\R{Y}) &\\coloneqq D(P_{\\R{X},\\R{Y}}\\| P_{\\R{X}}\\times P_{\\R{Y}})\\\\\n",
    "&=  \\int_{\\mc{X}\\times \\mc{Y}} d P_{\\R{X},\\R{Y}} \\,\\log \\frac{d P_{\\R{X},\\R{Y}}}{d(P_{\\R{X}}\\times P_{\\R{Y}})}.\n",
    "\\end{align}\n",
    "$$ (MI)\n",
    "\n",
    "It uses LaTeX commands supported by Mathjax3:\n",
    "\n",
    "```\n",
    "$$\n",
    "\\begin{align}\n",
    "I(\\R{X} \\wedge \\R{Y}) &\\coloneqq D(P_{\\R{X},\\R{Y}}\\| P_{\\R{X}}\\times P_{\\R{Y}})\\\\\n",
    "&= \\int_{\\mc{X}\\times \\mc{Y}} d P_{\\R{X},\\R{Y}} \\,\\log \\frac{d P_{\\R{X},\\R{Y}}}{d(P_{\\R{X}}\\times P_{\\R{Y}})}.\n",
    "\\end{align}\n",
    "$$ (MI)\n",
    "```"
   ]
  },
  {
   "cell_type": "markdown",
   "id": "518be962",
   "metadata": {},
   "source": [
    "```{seealso}\n",
    "- [JupyterBook docs](https://jupyterbook.org/content/math.html)\n",
    "- [MathJax3 docs](https://docs.mathjax.org/en/latest/input/tex/macros/index.html)\n",
    "```"
   ]
  },
  {
   "cell_type": "markdown",
   "id": "e1b95376",
   "metadata": {},
   "source": [
    "## Diagrams"
   ]
  },
  {
   "cell_type": "markdown",
   "id": "b4af2341",
   "metadata": {},
   "source": [
    "{numref}`fig:DT` below shows a decision tree that corresponds to an AND Gate:"
   ]
  },
  {
   "cell_type": "markdown",
   "id": "6c723b03",
   "metadata": {},
   "source": [
    "```{figure} images/DT.dio.svg \n",
    "---\n",
    "name: fig:DT\n",
    "---\n",
    "Decision Tree\n",
    "```\n",
    "\n",
    "The figure is create with the directive `figure`:\n",
    "\n",
    "````\n",
    "```{figure} images/DT.dio.svg \n",
    "---\n",
    "name: fig:DT\n",
    "---\n",
    "Decision Tree **test**\n",
    "```\n",
    "````"
   ]
  },
  {
   "cell_type": "markdown",
   "id": "2ba79660",
   "metadata": {},
   "source": [
    "The decision tree image <images/DT.dio.svg> is an svg file editable by the Diagram app. To create such a diagram:  \n",
    "- Click `File > New Launcher > Diagram` to create a `.dio` diagram file to draw in the Diagram app.\n",
    "- Rename the file to `.dio.svg` so that is can be included into a notebook as an `svg` image."
   ]
  },
  {
   "cell_type": "markdown",
   "id": "98e3e97c",
   "metadata": {},
   "source": [
    "```{tip}\n",
    "You can import [mermaid diagrams](https://mermaid-js.github.io/mermaid/) in the Diagram app by `Insert > Advanced >  Mermaid...`.\n",
    "```"
   ]
  }
 ],
 "metadata": {
  "jupytext": {
   "formats": "ipynb,md:myst",
   "text_representation": {
    "extension": ".md",
    "format_name": "myst",
    "format_version": 0.13,
    "jupytext_version": "1.11.5"
   }
  },
  "kernelspec": {
   "display_name": "Python 3 (ipykernel)",
   "language": "python",
   "name": "python3"
  },
  "language_info": {
   "codemirror_mode": {
    "name": "ipython",
    "version": 3
   },
   "file_extension": ".py",
   "mimetype": "text/x-python",
   "name": "python",
   "nbconvert_exporter": "python",
   "pygments_lexer": "ipython3",
   "version": "3.9.10"
  },
  "source_map": [
   15,
   19,
   25,
   29,
   37,
   43,
   49,
   53,
   61,
   65,
   78,
   85,
   89,
   111,
   118,
   122,
   126,
   146,
   152
  ]
 },
 "nbformat": 4,
 "nbformat_minor": 5
}