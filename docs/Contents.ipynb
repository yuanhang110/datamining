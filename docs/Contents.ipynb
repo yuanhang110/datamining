{
 "cells": [
  {
   "cell_type": "markdown",
   "id": "4722500d-b852-420a-a8aa-a973a202b6d5",
   "metadata": {
    "tags": []
   },
   "source": [
    "# Modifying Contents"
   ]
  },
  {
   "cell_type": "markdown",
   "id": "6b984839-beee-40ac-a631-202948008b9e",
   "metadata": {},
   "source": [
    "```{tip}\n",
    "JupyterBook uses the MyST syntax which is nicely summarized by [this cheat sheet](https://jupyterbook.org/reference/cheatsheet.html).\n",
    "```"
   ]
  },
  {
   "cell_type": "code",
   "execution_count": 1,
   "id": "b7b3125e-7e9a-463b-99fb-f9fdf9dd179a",
   "metadata": {
    "tags": [
     "remove-cell"
    ]
   },
   "outputs": [],
   "source": [
    "from IPython.display import Code"
   ]
  },
  {
   "cell_type": "markdown",
   "id": "c34d334d-151c-4c4e-b54c-02e7a464693e",
   "metadata": {},
   "source": [
    "In the Jupyter interface, open the terminal (`File > New > Terminal`) and run  \n",
    "```bash\n",
    "./build.sh\n",
    "```\n",
    "under the repository root. Answer `y` or simply press enter when prompted."
   ]
  },
  {
   "cell_type": "markdown",
   "id": "73112426-7b1e-4c77-9512-4188b94f6a86",
   "metadata": {},
   "source": [
    "To preview the book website,\n",
    "- start the http server (`File > New Launcher > www`) and \n",
    "- navigate to `www/cs5483jupyter`."
   ]
  },
  {
   "cell_type": "markdown",
   "id": "40c0a736-c23f-410c-b638-877f945da04d",
   "metadata": {},
   "source": [
    "```{tip}\n",
    "After rebuilding the book, you can refresh an existing preview page to update its content.\n",
    "```"
   ]
  },
  {
   "cell_type": "markdown",
   "id": "8e9953a4-f46b-446b-b381-d50f6b051b4c",
   "metadata": {},
   "source": [
    "## Citations"
   ]
  },
  {
   "cell_type": "markdown",
   "id": "7cebcfd2-bfd3-4031-ba97-ad45b10135e3",
   "metadata": {},
   "source": [
    "To cite some references such as the main textbooks {cite}`Han11, Witten11`, write\n",
    "```markdown\n",
    "  {cite}`Han11, Witten11`\n",
    "```\n",
    "and add the details of the references to the BibTeX file `ref.bib`:"
   ]
  },
  {
   "cell_type": "code",
   "execution_count": 2,
   "id": "60279240-f577-46e6-9e8c-ea677b1040f9",
   "metadata": {
    "scrolled": true,
    "tags": [
     "remove-input"
    ]
   },
   "outputs": [
    {
     "data": {
      "text/html": [
       "<style>pre { line-height: 125%; }\n",
       "td.linenos .normal { color: inherit; background-color: transparent; padding-left: 5px; padding-right: 5px; }\n",
       "span.linenos { color: inherit; background-color: transparent; padding-left: 5px; padding-right: 5px; }\n",
       "td.linenos .special { color: #000000; background-color: #ffffc0; padding-left: 5px; padding-right: 5px; }\n",
       "span.linenos.special { color: #000000; background-color: #ffffc0; padding-left: 5px; padding-right: 5px; }\n",
       ".output_html .hll { background-color: #ffffcc }\n",
       ".output_html { background: #f8f8f8; }\n",
       ".output_html .c { color: #3D7B7B; font-style: italic } /* Comment */\n",
       ".output_html .err { border: 1px solid #FF0000 } /* Error */\n",
       ".output_html .k { color: #008000; font-weight: bold } /* Keyword */\n",
       ".output_html .o { color: #666666 } /* Operator */\n",
       ".output_html .ch { color: #3D7B7B; font-style: italic } /* Comment.Hashbang */\n",
       ".output_html .cm { color: #3D7B7B; font-style: italic } /* Comment.Multiline */\n",
       ".output_html .cp { color: #9C6500 } /* Comment.Preproc */\n",
       ".output_html .cpf { color: #3D7B7B; font-style: italic } /* Comment.PreprocFile */\n",
       ".output_html .c1 { color: #3D7B7B; font-style: italic } /* Comment.Single */\n",
       ".output_html .cs { color: #3D7B7B; font-style: italic } /* Comment.Special */\n",
       ".output_html .gd { color: #A00000 } /* Generic.Deleted */\n",
       ".output_html .ge { font-style: italic } /* Generic.Emph */\n",
       ".output_html .gr { color: #E40000 } /* Generic.Error */\n",
       ".output_html .gh { color: #000080; font-weight: bold } /* Generic.Heading */\n",
       ".output_html .gi { color: #008400 } /* Generic.Inserted */\n",
       ".output_html .go { color: #717171 } /* Generic.Output */\n",
       ".output_html .gp { color: #000080; font-weight: bold } /* Generic.Prompt */\n",
       ".output_html .gs { font-weight: bold } /* Generic.Strong */\n",
       ".output_html .gu { color: #800080; font-weight: bold } /* Generic.Subheading */\n",
       ".output_html .gt { color: #0044DD } /* Generic.Traceback */\n",
       ".output_html .kc { color: #008000; font-weight: bold } /* Keyword.Constant */\n",
       ".output_html .kd { color: #008000; font-weight: bold } /* Keyword.Declaration */\n",
       ".output_html .kn { color: #008000; font-weight: bold } /* Keyword.Namespace */\n",
       ".output_html .kp { color: #008000 } /* Keyword.Pseudo */\n",
       ".output_html .kr { color: #008000; font-weight: bold } /* Keyword.Reserved */\n",
       ".output_html .kt { color: #B00040 } /* Keyword.Type */\n",
       ".output_html .m { color: #666666 } /* Literal.Number */\n",
       ".output_html .s { color: #BA2121 } /* Literal.String */\n",
       ".output_html .na { color: #687822 } /* Name.Attribute */\n",
       ".output_html .nb { color: #008000 } /* Name.Builtin */\n",
       ".output_html .nc { color: #0000FF; font-weight: bold } /* Name.Class */\n",
       ".output_html .no { color: #880000 } /* Name.Constant */\n",
       ".output_html .nd { color: #AA22FF } /* Name.Decorator */\n",
       ".output_html .ni { color: #717171; font-weight: bold } /* Name.Entity */\n",
       ".output_html .ne { color: #CB3F38; font-weight: bold } /* Name.Exception */\n",
       ".output_html .nf { color: #0000FF } /* Name.Function */\n",
       ".output_html .nl { color: #767600 } /* Name.Label */\n",
       ".output_html .nn { color: #0000FF; font-weight: bold } /* Name.Namespace */\n",
       ".output_html .nt { color: #008000; font-weight: bold } /* Name.Tag */\n",
       ".output_html .nv { color: #19177C } /* Name.Variable */\n",
       ".output_html .ow { color: #AA22FF; font-weight: bold } /* Operator.Word */\n",
       ".output_html .w { color: #bbbbbb } /* Text.Whitespace */\n",
       ".output_html .mb { color: #666666 } /* Literal.Number.Bin */\n",
       ".output_html .mf { color: #666666 } /* Literal.Number.Float */\n",
       ".output_html .mh { color: #666666 } /* Literal.Number.Hex */\n",
       ".output_html .mi { color: #666666 } /* Literal.Number.Integer */\n",
       ".output_html .mo { color: #666666 } /* Literal.Number.Oct */\n",
       ".output_html .sa { color: #BA2121 } /* Literal.String.Affix */\n",
       ".output_html .sb { color: #BA2121 } /* Literal.String.Backtick */\n",
       ".output_html .sc { color: #BA2121 } /* Literal.String.Char */\n",
       ".output_html .dl { color: #BA2121 } /* Literal.String.Delimiter */\n",
       ".output_html .sd { color: #BA2121; font-style: italic } /* Literal.String.Doc */\n",
       ".output_html .s2 { color: #BA2121 } /* Literal.String.Double */\n",
       ".output_html .se { color: #AA5D1F; font-weight: bold } /* Literal.String.Escape */\n",
       ".output_html .sh { color: #BA2121 } /* Literal.String.Heredoc */\n",
       ".output_html .si { color: #A45A77; font-weight: bold } /* Literal.String.Interpol */\n",
       ".output_html .sx { color: #008000 } /* Literal.String.Other */\n",
       ".output_html .sr { color: #A45A77 } /* Literal.String.Regex */\n",
       ".output_html .s1 { color: #BA2121 } /* Literal.String.Single */\n",
       ".output_html .ss { color: #19177C } /* Literal.String.Symbol */\n",
       ".output_html .bp { color: #008000 } /* Name.Builtin.Pseudo */\n",
       ".output_html .fm { color: #0000FF } /* Name.Function.Magic */\n",
       ".output_html .vc { color: #19177C } /* Name.Variable.Class */\n",
       ".output_html .vg { color: #19177C } /* Name.Variable.Global */\n",
       ".output_html .vi { color: #19177C } /* Name.Variable.Instance */\n",
       ".output_html .vm { color: #19177C } /* Name.Variable.Magic */\n",
       ".output_html .il { color: #666666 } /* Literal.Number.Integer.Long */</style><div class=\"highlight\"><pre><span></span><span class=\"nc\">@article</span><span class=\"p\">{</span><span class=\"nl\">Han11</span><span class=\"p\">,</span><span class=\"w\"></span>\n",
       "<span class=\"w\">  </span><span class=\"na\">title</span><span class=\"p\">=</span><span class=\"s\">{Data Mining: Concepts and Techniques Third Edition [M]}</span><span class=\"p\">,</span><span class=\"w\"></span>\n",
       "<span class=\"w\">  </span><span class=\"na\">author</span><span class=\"p\">=</span><span class=\"s\">{Han, Jiawei and Kamber, Micheline and Pei, Jian}</span><span class=\"p\">,</span><span class=\"w\"></span>\n",
       "<span class=\"w\">  </span><span class=\"na\">journal</span><span class=\"p\">=</span><span class=\"s\">{The Morgan Kaufmann Series in Data Management Systems}</span><span class=\"p\">,</span><span class=\"w\"></span>\n",
       "<span class=\"w\">  </span><span class=\"na\">volume</span><span class=\"p\">=</span><span class=\"s\">{5}</span><span class=\"p\">,</span><span class=\"w\"></span>\n",
       "<span class=\"w\">  </span><span class=\"na\">number</span><span class=\"p\">=</span><span class=\"s\">{4}</span><span class=\"p\">,</span><span class=\"w\"></span>\n",
       "<span class=\"w\">  </span><span class=\"na\">pages</span><span class=\"p\">=</span><span class=\"s\">{83--124}</span><span class=\"p\">,</span><span class=\"w\"></span>\n",
       "<span class=\"w\">  </span><span class=\"na\">year</span><span class=\"p\">=</span><span class=\"s\">{2011}</span><span class=\"w\"></span>\n",
       "<span class=\"p\">}</span><span class=\"w\"></span>\n",
       "\n",
       "<span class=\"nc\">@book</span><span class=\"p\">{</span><span class=\"nl\">Witten11</span><span class=\"p\">,</span><span class=\"w\"></span>\n",
       "<span class=\"w\">  </span><span class=\"na\">abstract</span><span class=\"w\"> </span><span class=\"p\">=</span><span class=\"w\"> </span><span class=\"s\">{This highly anticipated third edition of the most acclaimed work on data mining and machine learning will teach you everything you need to know about preparing inputs, interpreting outputs, evaluating results, and the algorithmic methods at the heart of successful data mining. Thorough updates reflect the technical changes and modernizations that have taken place in the field since the last edition, including new material on Data Transformations, Ensemble Learning, Massive Data Sets, Multi-instance Learning, plus a new version of the popular Weka machine learning software developed by the authors. Witten, Frank, and Hall include both tried-and-true techniques of today as well as methods at the leading edge of contemporary research. It provides a thorough grounding in machine learning concepts as well as practical advice on applying the tools and techniques to your data mining projects. It offers concrete tips and techniques for performance improvement that work by transforming the input or output in machine learning methods. It includes downloadable Weka software toolkit, a collection of machine learning algorithms for data mining tasks-in an updated, interactive interface. Algorithms in toolkit cover: data pre-processing, classification, regression, clustering, association rules, visualization.}</span><span class=\"p\">,</span><span class=\"w\"></span>\n",
       "<span class=\"w\">  </span><span class=\"na\">added-at</span><span class=\"w\"> </span><span class=\"p\">=</span><span class=\"w\"> </span><span class=\"s\">{2020-01-04T20:07:05.000+0100}</span><span class=\"p\">,</span><span class=\"w\"></span>\n",
       "<span class=\"w\">  </span><span class=\"na\">address</span><span class=\"w\"> </span><span class=\"p\">=</span><span class=\"w\"> </span><span class=\"s\">{Amsterdam}</span><span class=\"p\">,</span><span class=\"w\"></span>\n",
       "<span class=\"w\">  </span><span class=\"na\">author</span><span class=\"w\"> </span><span class=\"p\">=</span><span class=\"w\"> </span><span class=\"s\">{Witten, Ian H. and Frank, Eibe and Hall, Mark A.}</span><span class=\"p\">,</span><span class=\"w\"></span>\n",
       "<span class=\"w\">  </span><span class=\"na\">biburl</span><span class=\"w\"> </span><span class=\"p\">=</span><span class=\"w\"> </span><span class=\"s\">{https://www.bibsonomy.org/bibtex/2f317b38c79737297cecf9b9bd8ef2f3f/tallesmedeiros}</span><span class=\"p\">,</span><span class=\"w\"></span>\n",
       "<span class=\"w\">  </span><span class=\"na\">edition</span><span class=\"w\"> </span><span class=\"p\">=</span><span class=\"w\"> </span><span class=\"m\">3</span><span class=\"p\">,</span><span class=\"w\"></span>\n",
       "<span class=\"w\">  </span><span class=\"na\">file</span><span class=\"w\"> </span><span class=\"p\">=</span><span class=\"w\"> </span><span class=\"s\">{ACM Learning Center eBook:2011/WittenFrankHall11.pdf:PDF;Amazon Search inside:http\\://www.amazon.de/gp/reader/0123748569/:URL;Related Web Site:http\\://www.cs.waikato.ac.nz/ml/weka/:URL}</span><span class=\"p\">,</span><span class=\"w\"></span>\n",
       "<span class=\"w\">  </span><span class=\"na\">groups</span><span class=\"w\"> </span><span class=\"p\">=</span><span class=\"w\"> </span><span class=\"s\">{public}</span><span class=\"p\">,</span><span class=\"w\"></span>\n",
       "<span class=\"w\">  </span><span class=\"na\">interhash</span><span class=\"w\"> </span><span class=\"p\">=</span><span class=\"w\"> </span><span class=\"s\">{2626c7da45fec4b481e2e7fca4f43bd3}</span><span class=\"p\">,</span><span class=\"w\"></span>\n",
       "<span class=\"w\">  </span><span class=\"na\">intrahash</span><span class=\"w\"> </span><span class=\"p\">=</span><span class=\"w\"> </span><span class=\"s\">{f317b38c79737297cecf9b9bd8ef2f3f}</span><span class=\"p\">,</span><span class=\"w\"></span>\n",
       "<span class=\"w\">  </span><span class=\"na\">isbn</span><span class=\"w\"> </span><span class=\"p\">=</span><span class=\"w\"> </span><span class=\"s\">{978-0-12-374856-0}</span><span class=\"p\">,</span><span class=\"w\"></span>\n",
       "<span class=\"w\">  </span><span class=\"na\">keywords</span><span class=\"w\"> </span><span class=\"p\">=</span><span class=\"w\"> </span><span class=\"s\">{book datamining learning machine pattern recognition}</span><span class=\"p\">,</span><span class=\"w\"></span>\n",
       "<span class=\"w\">  </span><span class=\"na\">publisher</span><span class=\"w\"> </span><span class=\"p\">=</span><span class=\"w\"> </span><span class=\"s\">{Morgan Kaufmann}</span><span class=\"p\">,</span><span class=\"w\"></span>\n",
       "<span class=\"w\">  </span><span class=\"na\">series</span><span class=\"w\"> </span><span class=\"p\">=</span><span class=\"w\"> </span><span class=\"s\">{Morgan Kaufmann Series in Data Management Systems}</span><span class=\"p\">,</span><span class=\"w\"></span>\n",
       "<span class=\"w\">  </span><span class=\"na\">timestamp</span><span class=\"w\"> </span><span class=\"p\">=</span><span class=\"w\"> </span><span class=\"s\">{2020-01-04T20:07:05.000+0100}</span><span class=\"p\">,</span><span class=\"w\"></span>\n",
       "<span class=\"w\">  </span><span class=\"na\">title</span><span class=\"w\"> </span><span class=\"p\">=</span><span class=\"w\"> </span><span class=\"s\">{Data Mining: Practical Machine Learning Tools and Techniques}</span><span class=\"p\">,</span><span class=\"w\"></span>\n",
       "<span class=\"w\">  </span><span class=\"na\">url</span><span class=\"w\"> </span><span class=\"p\">=</span><span class=\"w\"> </span><span class=\"s\">{http://www.sciencedirect.com/science/book/9780123748560}</span><span class=\"p\">,</span><span class=\"w\"></span>\n",
       "<span class=\"w\">  </span><span class=\"na\">username</span><span class=\"w\"> </span><span class=\"p\">=</span><span class=\"w\"> </span><span class=\"s\">{flint63}</span><span class=\"p\">,</span><span class=\"w\"></span>\n",
       "<span class=\"w\">  </span><span class=\"na\">year</span><span class=\"w\"> </span><span class=\"p\">=</span><span class=\"w\"> </span><span class=\"m\">2011</span><span class=\"w\"></span>\n",
       "<span class=\"p\">}</span><span class=\"w\"></span>\n",
       "</pre></div>\n"
      ],
      "text/latex": [
       "\\begin{Verbatim}[commandchars=\\\\\\{\\}]\n",
       "\\PY{n+nc}{@article}\\PY{p}{\\PYZob{}}\\PY{n+nl}{Han11}\\PY{p}{,}\n",
       "\\PY{+w}{  }\\PY{n+na}{title}\\PY{p}{=}\\PY{l+s}{\\PYZob{}}\\PY{l+s}{Data Mining: Concepts and Techniques Third Edition [M]}\\PY{l+s}{\\PYZcb{}}\\PY{p}{,}\n",
       "\\PY{+w}{  }\\PY{n+na}{author}\\PY{p}{=}\\PY{l+s}{\\PYZob{}}\\PY{l+s}{Han, Jiawei and Kamber, Micheline and Pei, Jian}\\PY{l+s}{\\PYZcb{}}\\PY{p}{,}\n",
       "\\PY{+w}{  }\\PY{n+na}{journal}\\PY{p}{=}\\PY{l+s}{\\PYZob{}}\\PY{l+s}{The Morgan Kaufmann Series in Data Management Systems}\\PY{l+s}{\\PYZcb{}}\\PY{p}{,}\n",
       "\\PY{+w}{  }\\PY{n+na}{volume}\\PY{p}{=}\\PY{l+s}{\\PYZob{}}\\PY{l+s}{5}\\PY{l+s}{\\PYZcb{}}\\PY{p}{,}\n",
       "\\PY{+w}{  }\\PY{n+na}{number}\\PY{p}{=}\\PY{l+s}{\\PYZob{}}\\PY{l+s}{4}\\PY{l+s}{\\PYZcb{}}\\PY{p}{,}\n",
       "\\PY{+w}{  }\\PY{n+na}{pages}\\PY{p}{=}\\PY{l+s}{\\PYZob{}}\\PY{l+s}{83\\PYZhy{}\\PYZhy{}124}\\PY{l+s}{\\PYZcb{}}\\PY{p}{,}\n",
       "\\PY{+w}{  }\\PY{n+na}{year}\\PY{p}{=}\\PY{l+s}{\\PYZob{}}\\PY{l+s}{2011}\\PY{l+s}{\\PYZcb{}}\n",
       "\\PY{p}{\\PYZcb{}}\n",
       "\n",
       "\\PY{n+nc}{@book}\\PY{p}{\\PYZob{}}\\PY{n+nl}{Witten11}\\PY{p}{,}\n",
       "\\PY{+w}{  }\\PY{n+na}{abstract}\\PY{+w}{ }\\PY{p}{=}\\PY{+w}{ }\\PY{l+s}{\\PYZob{}}\\PY{l+s}{This highly anticipated third edition of the most acclaimed work on data mining and machine learning will teach you everything you need to know about preparing inputs, interpreting outputs, evaluating results, and the algorithmic methods at the heart of successful data mining. Thorough updates reflect the technical changes and modernizations that have taken place in the field since the last edition, including new material on Data Transformations, Ensemble Learning, Massive Data Sets, Multi\\PYZhy{}instance Learning, plus a new version of the popular Weka machine learning software developed by the authors. Witten, Frank, and Hall include both tried\\PYZhy{}and\\PYZhy{}true techniques of today as well as methods at the leading edge of contemporary research. It provides a thorough grounding in machine learning concepts as well as practical advice on applying the tools and techniques to your data mining projects. It offers concrete tips and techniques for performance improvement that work by transforming the input or output in machine learning methods. It includes downloadable Weka software toolkit, a collection of machine learning algorithms for data mining tasks\\PYZhy{}in an updated, interactive interface. Algorithms in toolkit cover: data pre\\PYZhy{}processing, classification, regression, clustering, association rules, visualization.}\\PY{l+s}{\\PYZcb{}}\\PY{p}{,}\n",
       "\\PY{+w}{  }\\PY{n+na}{added\\PYZhy{}at}\\PY{+w}{ }\\PY{p}{=}\\PY{+w}{ }\\PY{l+s}{\\PYZob{}}\\PY{l+s}{2020\\PYZhy{}01\\PYZhy{}04T20:07:05.000+0100}\\PY{l+s}{\\PYZcb{}}\\PY{p}{,}\n",
       "\\PY{+w}{  }\\PY{n+na}{address}\\PY{+w}{ }\\PY{p}{=}\\PY{+w}{ }\\PY{l+s}{\\PYZob{}}\\PY{l+s}{Amsterdam}\\PY{l+s}{\\PYZcb{}}\\PY{p}{,}\n",
       "\\PY{+w}{  }\\PY{n+na}{author}\\PY{+w}{ }\\PY{p}{=}\\PY{+w}{ }\\PY{l+s}{\\PYZob{}}\\PY{l+s}{Witten, Ian H. and Frank, Eibe and Hall, Mark A.}\\PY{l+s}{\\PYZcb{}}\\PY{p}{,}\n",
       "\\PY{+w}{  }\\PY{n+na}{biburl}\\PY{+w}{ }\\PY{p}{=}\\PY{+w}{ }\\PY{l+s}{\\PYZob{}}\\PY{l+s}{https://www.bibsonomy.org/bibtex/2f317b38c79737297cecf9b9bd8ef2f3f/tallesmedeiros}\\PY{l+s}{\\PYZcb{}}\\PY{p}{,}\n",
       "\\PY{+w}{  }\\PY{n+na}{edition}\\PY{+w}{ }\\PY{p}{=}\\PY{+w}{ }\\PY{l+m}{3}\\PY{p}{,}\n",
       "\\PY{+w}{  }\\PY{n+na}{file}\\PY{+w}{ }\\PY{p}{=}\\PY{+w}{ }\\PY{l+s}{\\PYZob{}}\\PY{l+s}{ACM Learning Center eBook:2011/WittenFrankHall11.pdf:PDF;Amazon Search inside:http\\PYZbs{}://www.amazon.de/gp/reader/0123748569/:URL;Related Web Site:http\\PYZbs{}://www.cs.waikato.ac.nz/ml/weka/:URL}\\PY{l+s}{\\PYZcb{}}\\PY{p}{,}\n",
       "\\PY{+w}{  }\\PY{n+na}{groups}\\PY{+w}{ }\\PY{p}{=}\\PY{+w}{ }\\PY{l+s}{\\PYZob{}}\\PY{l+s}{public}\\PY{l+s}{\\PYZcb{}}\\PY{p}{,}\n",
       "\\PY{+w}{  }\\PY{n+na}{interhash}\\PY{+w}{ }\\PY{p}{=}\\PY{+w}{ }\\PY{l+s}{\\PYZob{}}\\PY{l+s}{2626c7da45fec4b481e2e7fca4f43bd3}\\PY{l+s}{\\PYZcb{}}\\PY{p}{,}\n",
       "\\PY{+w}{  }\\PY{n+na}{intrahash}\\PY{+w}{ }\\PY{p}{=}\\PY{+w}{ }\\PY{l+s}{\\PYZob{}}\\PY{l+s}{f317b38c79737297cecf9b9bd8ef2f3f}\\PY{l+s}{\\PYZcb{}}\\PY{p}{,}\n",
       "\\PY{+w}{  }\\PY{n+na}{isbn}\\PY{+w}{ }\\PY{p}{=}\\PY{+w}{ }\\PY{l+s}{\\PYZob{}}\\PY{l+s}{978\\PYZhy{}0\\PYZhy{}12\\PYZhy{}374856\\PYZhy{}0}\\PY{l+s}{\\PYZcb{}}\\PY{p}{,}\n",
       "\\PY{+w}{  }\\PY{n+na}{keywords}\\PY{+w}{ }\\PY{p}{=}\\PY{+w}{ }\\PY{l+s}{\\PYZob{}}\\PY{l+s}{book datamining learning machine pattern recognition}\\PY{l+s}{\\PYZcb{}}\\PY{p}{,}\n",
       "\\PY{+w}{  }\\PY{n+na}{publisher}\\PY{+w}{ }\\PY{p}{=}\\PY{+w}{ }\\PY{l+s}{\\PYZob{}}\\PY{l+s}{Morgan Kaufmann}\\PY{l+s}{\\PYZcb{}}\\PY{p}{,}\n",
       "\\PY{+w}{  }\\PY{n+na}{series}\\PY{+w}{ }\\PY{p}{=}\\PY{+w}{ }\\PY{l+s}{\\PYZob{}}\\PY{l+s}{Morgan Kaufmann Series in Data Management Systems}\\PY{l+s}{\\PYZcb{}}\\PY{p}{,}\n",
       "\\PY{+w}{  }\\PY{n+na}{timestamp}\\PY{+w}{ }\\PY{p}{=}\\PY{+w}{ }\\PY{l+s}{\\PYZob{}}\\PY{l+s}{2020\\PYZhy{}01\\PYZhy{}04T20:07:05.000+0100}\\PY{l+s}{\\PYZcb{}}\\PY{p}{,}\n",
       "\\PY{+w}{  }\\PY{n+na}{title}\\PY{+w}{ }\\PY{p}{=}\\PY{+w}{ }\\PY{l+s}{\\PYZob{}}\\PY{l+s}{Data Mining: Practical Machine Learning Tools and Techniques}\\PY{l+s}{\\PYZcb{}}\\PY{p}{,}\n",
       "\\PY{+w}{  }\\PY{n+na}{url}\\PY{+w}{ }\\PY{p}{=}\\PY{+w}{ }\\PY{l+s}{\\PYZob{}}\\PY{l+s}{http://www.sciencedirect.com/science/book/9780123748560}\\PY{l+s}{\\PYZcb{}}\\PY{p}{,}\n",
       "\\PY{+w}{  }\\PY{n+na}{username}\\PY{+w}{ }\\PY{p}{=}\\PY{+w}{ }\\PY{l+s}{\\PYZob{}}\\PY{l+s}{flint63}\\PY{l+s}{\\PYZcb{}}\\PY{p}{,}\n",
       "\\PY{+w}{  }\\PY{n+na}{year}\\PY{+w}{ }\\PY{p}{=}\\PY{+w}{ }\\PY{l+m}{2011}\n",
       "\\PY{p}{\\PYZcb{}}\n",
       "\\end{Verbatim}\n"
      ],
      "text/plain": [
       "@article{Han11,\n",
       "  title={Data Mining: Concepts and Techniques Third Edition [M]},\n",
       "  author={Han, Jiawei and Kamber, Micheline and Pei, Jian},\n",
       "  journal={The Morgan Kaufmann Series in Data Management Systems},\n",
       "  volume={5},\n",
       "  number={4},\n",
       "  pages={83--124},\n",
       "  year={2011}\n",
       "}\n",
       "\n",
       "@book{Witten11,\n",
       "  abstract = {This highly anticipated third edition of the most acclaimed work on data mining and machine learning will teach you everything you need to know about preparing inputs, interpreting outputs, evaluating results, and the algorithmic methods at the heart of successful data mining. Thorough updates reflect the technical changes and modernizations that have taken place in the field since the last edition, including new material on Data Transformations, Ensemble Learning, Massive Data Sets, Multi-instance Learning, plus a new version of the popular Weka machine learning software developed by the authors. Witten, Frank, and Hall include both tried-and-true techniques of today as well as methods at the leading edge of contemporary research. It provides a thorough grounding in machine learning concepts as well as practical advice on applying the tools and techniques to your data mining projects. It offers concrete tips and techniques for performance improvement that work by transforming the input or output in machine learning methods. It includes downloadable Weka software toolkit, a collection of machine learning algorithms for data mining tasks-in an updated, interactive interface. Algorithms in toolkit cover: data pre-processing, classification, regression, clustering, association rules, visualization.},\n",
       "  added-at = {2020-01-04T20:07:05.000+0100},\n",
       "  address = {Amsterdam},\n",
       "  author = {Witten, Ian H. and Frank, Eibe and Hall, Mark A.},\n",
       "  biburl = {https://www.bibsonomy.org/bibtex/2f317b38c79737297cecf9b9bd8ef2f3f/tallesmedeiros},\n",
       "  edition = 3,\n",
       "  file = {ACM Learning Center eBook:2011/WittenFrankHall11.pdf:PDF;Amazon Search inside:http\\://www.amazon.de/gp/reader/0123748569/:URL;Related Web Site:http\\://www.cs.waikato.ac.nz/ml/weka/:URL},\n",
       "  groups = {public},\n",
       "  interhash = {2626c7da45fec4b481e2e7fca4f43bd3},\n",
       "  intrahash = {f317b38c79737297cecf9b9bd8ef2f3f},\n",
       "  isbn = {978-0-12-374856-0},\n",
       "  keywords = {book datamining learning machine pattern recognition},\n",
       "  publisher = {Morgan Kaufmann},\n",
       "  series = {Morgan Kaufmann Series in Data Management Systems},\n",
       "  timestamp = {2020-01-04T20:07:05.000+0100},\n",
       "  title = {Data Mining: Practical Machine Learning Tools and Techniques},\n",
       "  url = {http://www.sciencedirect.com/science/book/9780123748560},\n",
       "  username = {flint63},\n",
       "  year = 2011\n",
       "}"
      ]
     },
     "execution_count": 2,
     "metadata": {},
     "output_type": "execute_result"
    }
   ],
   "source": [
    "Code('ref.bib')"
   ]
  },
  {
   "cell_type": "markdown",
   "id": "88e20edc-c0d7-4c88-84b9-de37659b92b5",
   "metadata": {},
   "source": [
    "`````{note}\n",
    "\n",
    "For the above to work, the bibliography is added to the [References](References.ipynb) notebook with\n",
    "\n",
    "````markdown\n",
    "```{bibliography}\n",
    "```\n",
    "````\n",
    "\n",
    "`````"
   ]
  },
  {
   "cell_type": "markdown",
   "id": "48c62c13-21b0-4b7a-8a4b-480891d96598",
   "metadata": {},
   "source": [
    "```{seealso}\n",
    "- [JupyterBook docs](https://jupyterbook.org/content/citations.html)\n",
    "- [sphinxcontrib-bibtex docs](https://sphinxcontrib-bibtex.readthedocs.io)\n",
    "```"
   ]
  },
  {
   "cell_type": "markdown",
   "id": "391a6ce3-bb51-4409-b3f7-94262c11ed82",
   "metadata": {
    "tags": []
   },
   "source": [
    "## Equations"
   ]
  },
  {
   "cell_type": "markdown",
   "id": "7cf1a035-4612-4fcc-8aad-0c245635baf2",
   "metadata": {},
   "source": [
    "Eqn {eq}`MI` below defines the mutual information\n",
    "\n",
    "$$\n",
    "\\begin{align}\n",
    "I(\\R{X} \\wedge \\R{Y}) &\\coloneqq D(P_{\\R{X},\\R{Y}}\\| P_{\\R{X}}\\times P_{\\R{Y}})\\\\\n",
    "&=  \\int_{\\mc{X}\\times \\mc{Y}} d P_{\\R{X},\\R{Y}} \\,\\log \\frac{d P_{\\R{X},\\R{Y}}}{d(P_{\\R{X}}\\times P_{\\R{Y}})}.\n",
    "\\end{align}\n",
    "$$ (MI)\n",
    "\n",
    "It uses LaTeX commands supported by Mathjax3:\n",
    "\n",
    "```\n",
    "$$\n",
    "\\begin{align}\n",
    "I(\\R{X} \\wedge \\R{Y}) &\\coloneqq D(P_{\\R{X},\\R{Y}}\\| P_{\\R{X}}\\times P_{\\R{Y}})\\\\\n",
    "&= \\int_{\\mc{X}\\times \\mc{Y}} d P_{\\R{X},\\R{Y}} \\,\\log \\frac{d P_{\\R{X},\\R{Y}}}{d(P_{\\R{X}}\\times P_{\\R{Y}})}.\n",
    "\\end{align}\n",
    "$$ (MI)\n",
    "```"
   ]
  },
  {
   "cell_type": "markdown",
   "id": "061ba36a-e8e8-401e-ac3b-28a23fcda35c",
   "metadata": {},
   "source": [
    "```{seealso}\n",
    "- [JupyterBook docs](https://jupyterbook.org/content/math.html)\n",
    "- [MathJax3 docs](https://docs.mathjax.org/en/latest/input/tex/macros/index.html)\n",
    "```"
   ]
  },
  {
   "cell_type": "markdown",
   "id": "49287cd4-0b45-4d12-bc39-684e0c6c14fe",
   "metadata": {},
   "source": [
    "## Diagrams"
   ]
  },
  {
   "cell_type": "markdown",
   "id": "ff559064-252a-43ea-b60d-fe01a87905bf",
   "metadata": {},
   "source": [
    "{numref}`fig:DT` below shows a decision tree that corresponds to an AND Gate:"
   ]
  },
  {
   "cell_type": "markdown",
   "id": "391caa27-83a7-402a-8b6b-1760372b3169",
   "metadata": {},
   "source": [
    "```{figure} images/DT.dio.svg \n",
    "---\n",
    "name: fig:DT\n",
    "---\n",
    "Decision Tree\n",
    "```\n",
    "\n",
    "The figure is create with the directive `figure`:\n",
    "\n",
    "````\n",
    "```{figure} images/DT.dio.svg \n",
    "---\n",
    "name: fig:DT\n",
    "---\n",
    "Decision Tree **test**\n",
    "```\n",
    "````"
   ]
  },
  {
   "cell_type": "markdown",
   "id": "63973a3d-4c60-4eec-8a5b-1e409bbb0986",
   "metadata": {},
   "source": [
    "The decision tree image <images/DT.dio.svg> is an svg file editable by the Diagram app. To create such a diagram:  \n",
    "- Click `File > New Launcher > Diagram` to create a `.dio` diagram file to draw in the Diagram app.\n",
    "- Rename the file to `.dio.svg` so that is can be included into a notebook as an `svg` image."
   ]
  },
  {
   "cell_type": "markdown",
   "id": "ffaf7a2d-8463-4b04-8929-f303dd73eacc",
   "metadata": {},
   "source": [
    "```{tip}\n",
    "You can import [mermaid diagrams](https://mermaid-js.github.io/mermaid/) in the Diagram app by `Insert > Advanced >  Mermaid...`.\n",
    "```"
   ]
  }
 ],
 "metadata": {
  "jupytext": {
   "formats": "ipynb,md:myst"
  },
  "kernelspec": {
   "display_name": "Python 3 (ipykernel)",
   "language": "python",
   "name": "python3"
  },
  "language_info": {
   "codemirror_mode": {
    "name": "ipython",
    "version": 3
   },
   "file_extension": ".py",
   "mimetype": "text/x-python",
   "name": "python",
   "nbconvert_exporter": "python",
   "pygments_lexer": "ipython3",
   "version": "3.8.12"
  }
 },
 "nbformat": 4,
 "nbformat_minor": 5
}
