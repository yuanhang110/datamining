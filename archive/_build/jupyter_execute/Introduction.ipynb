{
 "cells": [
  {
   "cell_type": "markdown",
   "id": "e866752d",
   "metadata": {},
   "source": [
    "# Introduction"
   ]
  },
  {
   "cell_type": "markdown",
   "id": "6f86bd18",
   "metadata": {},
   "source": [
    "```{tip}\n",
    "The introduction section should identify the issues that motivates the current work. \n",
    "```"
   ]
  },
  {
   "cell_type": "markdown",
   "id": "3141fe96",
   "metadata": {},
   "source": [
    "For research work that involves coding, traditional publications in static formats are not ideal:\n",
    "\n",
    "- A paper does not allow readers to interact with the code to learn the results.\n",
    "- Computer source code is hard to read as comments are in plain text and often very brief.\n",
    "- In case of error in the code, changes need to be made separately to the paper."
   ]
  },
  {
   "cell_type": "markdown",
   "id": "73f4d0c2",
   "metadata": {},
   "source": [
    "Jupyter Notebooks solve the above problems by combining richly formatted markdown cells with executable code cells. We can further use:\n",
    "\n",
    "- [Jupyter Book](https://jupyterbook.org/) to compile executable contents in multiple Jupyter Notebooks with proper citations.\n",
    "- [Docker image](https://hub.docker.com/) to run the notebooks anywhere with the required dependencies automatically set up.\n",
    "- [GitLab](https://docs.gitlab.com/) to version control and publish the work."
   ]
  },
  {
   "cell_type": "markdown",
   "id": "b6c6d0a8",
   "metadata": {
    "tags": []
   },
   "source": [
    "This work is a demonstration and template for compiling a JupyterBook on GitLab that can run iteractively using a docker image for a data science course."
   ]
  }
 ],
 "metadata": {
  "jupytext": {
   "formats": "ipynb,md:myst",
   "text_representation": {
    "extension": ".md",
    "format_name": "myst",
    "format_version": 0.13,
    "jupytext_version": "1.11.5"
   }
  },
  "kernelspec": {
   "display_name": "Python 3 (ipykernel)",
   "language": "python",
   "name": "python3"
  },
  "language_info": {
   "codemirror_mode": {
    "name": "ipython",
    "version": 3
   },
   "file_extension": ".py",
   "mimetype": "text/x-python",
   "name": "python",
   "nbconvert_exporter": "python",
   "pygments_lexer": "ipython3",
   "version": "3.9.10"
  },
  "source_map": [
   13,
   17,
   23,
   31,
   39
  ]
 },
 "nbformat": 4,
 "nbformat_minor": 5
}